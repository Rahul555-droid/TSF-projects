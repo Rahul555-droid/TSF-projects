{
 "cells": [
  {
   "cell_type": "markdown",
   "metadata": {},
   "source": [
    "# Mohta Rahul Suresh TSF internship"
   ]
  },
  {
   "cell_type": "markdown",
   "metadata": {},
   "source": [
    "# Simple Linear Regression from scratch"
   ]
  },
  {
   "cell_type": "markdown",
   "metadata": {},
   "source": [
    "[![Open In Colab](https://colab.research.google.com/assets/colab-badge.svg)](https://colab.research.google.com/)\n"
   ]
  },
  {
   "cell_type": "markdown",
   "metadata": {},
   "source": [
    "========================================================================================================================"
   ]
  },
  {
   "cell_type": "code",
   "execution_count": null,
   "metadata": {},
   "outputs": [],
   "source": [
    "!wget http://bit.ly/w-data\n",
    "!mv w-data student_scores.csv"
   ]
  },
  {
   "cell_type": "markdown",
   "metadata": {},
   "source": [
    "## import libraries"
   ]
  },
  {
   "cell_type": "code",
   "execution_count": 89,
   "metadata": {},
   "outputs": [],
   "source": [
    "import csv\n",
    "from random import seed\n",
    "from random import randrange\n",
    "from math import sqrt\n",
    "import matplotlib.pyplot as plt  \n",
    "%matplotlib inline"
   ]
  },
  {
   "cell_type": "markdown",
   "metadata": {},
   "source": [
    "## Load data from CSV file"
   ]
  },
  {
   "cell_type": "code",
   "execution_count": 90,
   "metadata": {},
   "outputs": [
    {
     "name": "stdout",
     "output_type": "stream",
     "text": [
      "[2.5, 5.1, 3.2, 8.5, 3.5, 1.5, 9.2, 5.5, 8.3, 2.7, 7.7, 5.9, 4.5, 3.3, 1.1, 8.9, 2.5, 1.9, 6.1, 7.4, 2.7, 4.8, 3.8, 6.9, 7.8]\n"
     ]
    },
    {
     "data": {
      "text/plain": [
       "[(2.5, 21.0),\n",
       " (5.1, 47.0),\n",
       " (3.2, 27.0),\n",
       " (8.5, 75.0),\n",
       " (3.5, 30.0),\n",
       " (1.5, 20.0),\n",
       " (9.2, 88.0),\n",
       " (5.5, 60.0),\n",
       " (8.3, 81.0),\n",
       " (2.7, 25.0),\n",
       " (7.7, 85.0),\n",
       " (5.9, 62.0),\n",
       " (4.5, 41.0),\n",
       " (3.3, 42.0),\n",
       " (1.1, 17.0),\n",
       " (8.9, 95.0),\n",
       " (2.5, 30.0),\n",
       " (1.9, 24.0),\n",
       " (6.1, 67.0),\n",
       " (7.4, 69.0),\n",
       " (2.7, 30.0),\n",
       " (4.8, 54.0),\n",
       " (3.8, 35.0),\n",
       " (6.9, 76.0),\n",
       " (7.8, 86.0)]"
      ]
     },
     "execution_count": 90,
     "metadata": {},
     "output_type": "execute_result"
    }
   ],
   "source": [
    "with open('student_scores.csv') as file:\n",
    "    dic=csv.DictReader(file)\n",
    "    Hours,Scores=[],[]\n",
    "    for row in dic:\n",
    "        Hours.append(float(row['Hours']))\n",
    "        Scores.append(float(row['Scores']))\n",
    "\n",
    "print(Hours)\n",
    "dataset=list(zip(Hours,Scores))\n",
    "dataset"
   ]
  },
  {
   "cell_type": "code",
   "execution_count": 91,
   "metadata": {},
   "outputs": [
    {
     "data": {
      "image/png": "[encoded data removed]",
      "text/plain": [
       "<Figure size 432x288 with 1 Axes>"
      ]
     },
     "metadata": {
      "needs_background": "light"
     },
     "output_type": "display_data"
    }
   ],
   "source": [
    "\n",
    "plt.plot(Hours,Scores,\"o\")\n",
    "plt.title('Hours vs Percentage')  \n",
    "plt.xlabel('Hours Studied')  \n",
    "plt.ylabel('Percentage Score')  \n",
    "plt.show()"
   ]
  },
  {
   "cell_type": "markdown",
   "metadata": {},
   "source": [
    "\n",
    "**First we will get the RMSE value to see how accurate our model is with test_train split.\n",
    "Then we would train the model with entire dataset to get the predicted value of how much would a student score if he studied 9.25 hours a day.**\n",
    "\n",
    "\n",
    "This is an equation of a line or a simple linear regression\n",
    "\n",
    "y = b0 + b1 * x\n",
    "\n",
    "To get b0 and b1 the curve fitting method formula is shown below,\n",
    "\n",
    "b1 = sum((xi - mean(x)) * (yi - mean(y))) / (xi - mean(x))^2\n",
    "\n",
    "   = covariance(x,y) / variance(x)\n",
    "\n",
    "b0 = mean(y) - b1* mean(x)\n"
   ]
  },
  {
   "cell_type": "markdown",
   "metadata": {},
   "source": [
    "## Defining utility functions"
   ]
  },
  {
   "cell_type": "code",
   "execution_count": 92,
   "metadata": {},
   "outputs": [
    {
     "data": {
      "text/plain": [
       "5.897422719636866"
      ]
     },
     "execution_count": 92,
     "metadata": {},
     "output_type": "execute_result"
    }
   ],
   "source": [
    "seed(1)\n",
    "\n",
    "def rmse_metric(actual, predicted):\n",
    "    sum_error = 0.0\n",
    "    for i in range(len(actual)):\n",
    "        prediction_error = predicted[i] - actual[i]\n",
    "        sum_error += (prediction_error ** 2)\n",
    "    mean_error = sum_error / float(len(actual))\n",
    "    return sqrt(mean_error)\n",
    "\n",
    "def train_test_split(dataset, split=0.60):\n",
    "    train = list()\n",
    "    train_size = split * len(dataset)\n",
    "    dataset_copy = list(dataset)\n",
    "    while len(train) < train_size:\n",
    "        index = randrange(len(dataset_copy))\n",
    "        train.append(dataset_copy.pop(index))\n",
    "    test=dataset_copy\n",
    "    return train,test\n",
    "\n",
    "\n",
    "def mean(values):\n",
    "    return sum(values)/len(values)\n",
    "\n",
    "def variance(values, mean):\n",
    "    return sum([(x-mean)**2 for x in values])\n",
    "\n",
    "def covariance(x, mean_x, y, mean_y):\n",
    "    covar = 0.0\n",
    "    for i in range(len(x)):\n",
    "        covar += (x[i] - mean_x) * (y[i] - mean_y)\n",
    "    return covar\n",
    "\n",
    "\n",
    "def coefficients(dataset):\n",
    "    x = [row[0] for row in dataset]\n",
    "    y = [row[1] for row in dataset]\n",
    "    x_mean, y_mean = mean(x), mean(y)\n",
    "    b1 = covariance(x, x_mean, y, y_mean) / variance(x, x_mean)\n",
    "    b0 = y_mean - b1 * x_mean\n",
    "    return [b0, b1]\n",
    "\n",
    "\n",
    "def simple_linear_regression(train, test):\n",
    "    predictions = list()\n",
    "    b0, b1 = coefficients(train)\n",
    "    for row in test:\n",
    "        y = b0 + b1 * row[0]\n",
    "        predictions.append(y)\n",
    "    return predictions\n",
    "\n",
    "# uses up all these above functions and gives us the end result value of rmse metric\n",
    "\n",
    "def evaluate_rmse(dataset,split=0.6):\n",
    "    train, test = train_test_split(dataset,split)\n",
    "    test_set = list()\n",
    "    for row in test:\n",
    "        row_copy = list(row)\n",
    "        row_copy[-1] = None\n",
    "        test_set.append(row_copy)\n",
    "    predicted = simple_linear_regression(train, test_set)\n",
    "    actual = [row[-1] for row in test]\n",
    "    rmse = rmse_metric(actual, predicted)\n",
    "    return rmse\n",
    "\n",
    "\n",
    "evaluate_rmse(dataset)"
   ]
  },
  {
   "cell_type": "code",
   "execution_count": 95,
   "metadata": {},
   "outputs": [
    {
     "name": "stdout",
     "output_type": "stream",
     "text": [
      "92.90985477015732\n"
     ]
    },
    {
     "data": {
      "image/png": "[encoded data removed]",
      "text/plain": [
       "<Figure size 432x288 with 1 Axes>"
      ]
     },
     "metadata": {
      "needs_background": "light"
     },
     "output_type": "display_data"
    }
   ],
   "source": [
    "import numpy as np\n",
    "\n",
    "b0,b1=coefficients(dataset)\n",
    "score=b1*9.25+b0\n",
    "\n",
    "plt.plot(np.array(Hours),b1*np.array(Hours)+b0)\n",
    "plt.plot(Hours,Scores,\"o\")\n",
    "print(score)"
   ]
  },
  {
   "cell_type": "code",
   "execution_count": null,
   "metadata": {},
   "outputs": [],
   "source": []
  }
 ],
 "metadata": {
  "kernelspec": {
   "display_name": "Python 3",
   "language": "python",
   "name": "python3"
  },
  "language_info": {
   "codemirror_mode": {
    "name": "ipython",
    "version": 3
   },
   "file_extension": ".py",
   "mimetype": "text/x-python",
   "name": "python",
   "nbconvert_exporter": "python",
   "pygments_lexer": "ipython3",
   "version": "3.7.6"
  }
 },
 "nbformat": 4,
 "nbformat_minor": 4
}
